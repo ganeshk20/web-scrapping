{
 "cells": [
  {
   "cell_type": "markdown",
   "id": "7ff47785",
   "metadata": {},
   "source": [
    "# I have used selenium for web scraping. You need to import this module also you need to install Chrome Driver ."
   ]
  },
  {
   "cell_type": "code",
   "execution_count": 1,
   "id": "e8645a9b",
   "metadata": {},
   "outputs": [],
   "source": [
    "from selenium import webdriver\n",
    "from selenium.webdriver.common.keys import Keys\n",
    "from selenium.webdriver.common.by import By\n",
    "PATH = \"C:\\Program Files (x86)\\chromedriver.exe\""
   ]
  },
  {
   "cell_type": "code",
   "execution_count": 2,
   "id": "16d1b8bd",
   "metadata": {
    "scrolled": true
   },
   "outputs": [
    {
     "name": "stderr",
     "output_type": "stream",
     "text": [
      "C:\\Users\\divya\\AppData\\Local\\Temp\\ipykernel_12928\\607351655.py:1: DeprecationWarning: executable_path has been deprecated, please pass in a Service object\n",
      "  driver = webdriver.Chrome(PATH)\n"
     ]
    }
   ],
   "source": [
    "driver = webdriver.Chrome(PATH)\n",
    "driver.get(\"https://pubs.acs.org/doi/10.1021/acsnano.9b06394\")"
   ]
  },
  {
   "cell_type": "markdown",
   "id": "643316de",
   "metadata": {},
   "source": [
    "# I have grabbed the name of first 5 refrence article"
   ]
  },
  {
   "cell_type": "code",
   "execution_count": 3,
   "id": "99470782",
   "metadata": {},
   "outputs": [
    {
     "data": {
      "text/plain": [
       "['Ultrathin Two-Dimensional Nanomaterials',\n",
       " 'An Update from Flatland',\n",
       " '2D Metal Carbides and Nitrides (MXenes) for Energy Storage',\n",
       " '2019: The Year the Periodic Table Gets Its Due',\n",
       " 'Two-Dimensional Nanocrystals Produced by Exfoliation of Ti3AlC2']"
      ]
     },
     "execution_count": 3,
     "metadata": {},
     "output_type": "execute_result"
    }
   ],
   "source": [
    "index=5\n",
    "name=[]\n",
    "i=0\n",
    "while i < index :\n",
    "    name.append(driver.find_elements(By.CLASS_NAME,\"NLM_article-title\")[i].text)\n",
    "    i=i+1\n",
    "name"
   ]
  },
  {
   "cell_type": "markdown",
   "id": "cdc22707",
   "metadata": {},
   "source": [
    "# Here I have downloaded the 4th article which has ACS link . you can change the article number which you want to download"
   ]
  },
  {
   "cell_type": "code",
   "execution_count": 4,
   "id": "9f121bbd",
   "metadata": {},
   "outputs": [],
   "source": [
    "link = driver.find_elements(By.LINK_TEXT,\"ACS Full Text\")[3]"
   ]
  },
  {
   "cell_type": "code",
   "execution_count": 5,
   "id": "97473da5",
   "metadata": {},
   "outputs": [],
   "source": [
    "lin =link.get_attribute(\"href\")"
   ]
  },
  {
   "cell_type": "code",
   "execution_count": 6,
   "id": "36fe6915",
   "metadata": {},
   "outputs": [],
   "source": [
    "driver.get(lin)"
   ]
  },
  {
   "cell_type": "code",
   "execution_count": 7,
   "id": "8db92c61",
   "metadata": {},
   "outputs": [],
   "source": [
    "res= driver.find_element(By.CLASS_NAME,\"button_primary.pdf-button\")"
   ]
  },
  {
   "cell_type": "code",
   "execution_count": 8,
   "id": "d71332fa",
   "metadata": {},
   "outputs": [
    {
     "data": {
      "text/plain": [
       "'https://pubs.acs.org/doi/pdf/10.1021/acsnano.5b03591'"
      ]
     },
     "execution_count": 8,
     "metadata": {},
     "output_type": "execute_result"
    }
   ],
   "source": [
    "lk=res.get_attribute(\"href\")\n",
    "lk"
   ]
  },
  {
   "cell_type": "markdown",
   "id": "8d360e8e",
   "metadata": {},
   "source": [
    "# I have opened the pdf of the refrence article . I have tried to download it . But , It has some different url . I was able to download the file which has .pdf extension . "
   ]
  },
  {
   "cell_type": "code",
   "execution_count": 9,
   "id": "fe777360",
   "metadata": {},
   "outputs": [],
   "source": [
    "driver.get(lk)"
   ]
  },
  {
   "cell_type": "code",
   "execution_count": null,
   "id": "aedd77b7",
   "metadata": {},
   "outputs": [],
   "source": []
  },
  {
   "cell_type": "code",
   "execution_count": 7,
   "id": "6f603514",
   "metadata": {},
   "outputs": [],
   "source": [
    "from selenium import webdriver\n",
    "from selenium.webdriver.common.keys import Keys\n",
    "from selenium.webdriver.common.by import By\n",
    "PATH = \"C:\\Program Files (x86)\\chromedriver.exe\""
   ]
  },
  {
   "cell_type": "code",
   "execution_count": 10,
   "id": "00294b17",
   "metadata": {},
   "outputs": [
    {
     "name": "stderr",
     "output_type": "stream",
     "text": [
      "C:\\Users\\divya\\AppData\\Local\\Temp\\ipykernel_3908\\1578761828.py:1: DeprecationWarning: executable_path has been deprecated, please pass in a Service object\n",
      "  driver = webdriver.Chrome(PATH)\n"
     ]
    }
   ],
   "source": [
    "driver = webdriver.Chrome(PATH)\n",
    "driver.get(\"https://pubs.acs.org/doi/10.1021/acsnano.9b06394\")\n",
    "driver.set_window_size(700, 850)"
   ]
  },
  {
   "cell_type": "code",
   "execution_count": 89,
   "id": "96648764",
   "metadata": {},
   "outputs": [],
   "source": [
    "# driver.find_element(By.CLASS_NAME,\"tab__close icon-close \").click()\n",
    "jj=driver.find_elements(By.CSS_SELECTOR ,\"p[class='first']\")"
   ]
  },
  {
   "cell_type": "code",
   "execution_count": 91,
   "id": "474e8eeb",
   "metadata": {},
   "outputs": [
    {
     "data": {
      "text/plain": [
       "'For the past 15 years, starting with the discovery of the unique physical properties of single-layer graphene, two-dimensional (2D) materials have been widely researched. This interest led to both a new wave of research on known 2D materials, such as metal dichalcogenides and boron nitride, and the discovery of many new 2D materials. (1,2) Although many of these materials remain subjects of purely academic interest, others have jumped into the limelight due to their attractive properties, which have led to practical applications. Among the latter are carbides and nitrides of transition metals known as MXenes (pronounced “maxenes”), a fast-growing family of 2D materials. In a 2D flake of MXene, n + 1 (n = 1–3) layers of early transition metals (M, elements in blue in Figure 1) are interleaved with n layers of carbon or nitrogen (X, elements in gray in Figure 1), with a general formula of Mn+1XnTx. The Tx in the formula represents the surface terminations, such as O, OH, F, and/or Cl (elements in orange in Figure 1), which are bonded to the outer M layers. (3) Atomic schematics of three types of MXenes are shown at the bottom of Figure 1a. The variety of compositions and structures of MXenes has led to the formation of a large and rapidly expanding family of 2D materials. MXenes (Figure 1a), their precursor MAX phases, and intercalated metal ions in MXenes (Figure 1b) serve as embodiments of the fundamental principles of chemistry, showing how the elements can be used as building blocks to form a variety of nanomaterials. To mark the 150th anniversary of Dmitri Mendeleev’s now-iconic periodic table of the elements, the United Nations General Assembly and UN Educational, Scientific, and Cultural Organization have proclaimed 2019 the International Year of the Periodic Table of Chemical Elements. (4) The MAX and MXene compositions nicely illustrate the power of the periodic table.'"
      ]
     },
     "execution_count": 91,
     "metadata": {},
     "output_type": "execute_result"
    }
   ],
   "source": [
    "jj[0].text"
   ]
  },
  {
   "cell_type": "code",
   "execution_count": 95,
   "id": "a0aa7029",
   "metadata": {},
   "outputs": [],
   "source": [
    "jj=driver.find_elements(By.CSS_SELECTOR ,\"i[class='icon-navicon']\")[0]"
   ]
  },
  {
   "cell_type": "code",
   "execution_count": 98,
   "id": "7f84fce8",
   "metadata": {},
   "outputs": [
    {
     "ename": "ElementClickInterceptedException",
     "evalue": "Message: element click intercepted: Element <i class=\"icon-navicon\"></i> is not clickable at point (836, 68). Other element would receive the click: <h3 class=\"pairing-affiliations-title\">...</h3>\n  (Session info: chrome=103.0.5060.114)\nStacktrace:\nBacktrace:\n\tOrdinal0 [0x007D6463+2188387]\n\tOrdinal0 [0x0076E461+1762401]\n\tOrdinal0 [0x00683D78+802168]\n\tOrdinal0 [0x006B7F9B+1015707]\n\tOrdinal0 [0x006B5F68+1007464]\n\tOrdinal0 [0x006B3C6B+998507]\n\tOrdinal0 [0x006B29D9+993753]\n\tOrdinal0 [0x006A8613+951827]\n\tOrdinal0 [0x006CC7DC+1099740]\n\tOrdinal0 [0x006A7FF4+950260]\n\tOrdinal0 [0x006CC9F4+1100276]\n\tOrdinal0 [0x006DCC22+1166370]\n\tOrdinal0 [0x006CC5F6+1099254]\n\tOrdinal0 [0x006A6BE0+945120]\n\tOrdinal0 [0x006A7AD6+948950]\n\tGetHandleVerifier [0x00A771F2+2712546]\n\tGetHandleVerifier [0x00A6886D+2652765]\n\tGetHandleVerifier [0x0086002A+520730]\n\tGetHandleVerifier [0x0085EE06+516086]\n\tOrdinal0 [0x0077468B+1787531]\n\tOrdinal0 [0x00778E88+1805960]\n\tOrdinal0 [0x00778F75+1806197]\n\tOrdinal0 [0x00781DF1+1842673]\n\tBaseThreadInitThunk [0x7568FA29+25]\n\tRtlGetAppContainerNamedObjectPath [0x77807A9E+286]\n\tRtlGetAppContainerNamedObjectPath [0x77807A6E+238]\n",
     "output_type": "error",
     "traceback": [
      "\u001b[1;31m---------------------------------------------------------------------------\u001b[0m",
      "\u001b[1;31mElementClickInterceptedException\u001b[0m          Traceback (most recent call last)",
      "Input \u001b[1;32mIn [98]\u001b[0m, in \u001b[0;36m<cell line: 1>\u001b[1;34m()\u001b[0m\n\u001b[1;32m----> 1\u001b[0m \u001b[43mjj\u001b[49m\u001b[38;5;241;43m.\u001b[39;49m\u001b[43mclick\u001b[49m\u001b[43m(\u001b[49m\u001b[43m)\u001b[49m\n",
      "File \u001b[1;32m~\\anaconda3\\lib\\site-packages\\selenium\\webdriver\\remote\\webelement.py:88\u001b[0m, in \u001b[0;36mWebElement.click\u001b[1;34m(self)\u001b[0m\n\u001b[0;32m     86\u001b[0m \u001b[38;5;28;01mdef\u001b[39;00m \u001b[38;5;21mclick\u001b[39m(\u001b[38;5;28mself\u001b[39m) \u001b[38;5;241m-\u001b[39m\u001b[38;5;241m>\u001b[39m \u001b[38;5;28;01mNone\u001b[39;00m:\n\u001b[0;32m     87\u001b[0m     \u001b[38;5;124;03m\"\"\"Clicks the element.\"\"\"\u001b[39;00m\n\u001b[1;32m---> 88\u001b[0m     \u001b[38;5;28;43mself\u001b[39;49m\u001b[38;5;241;43m.\u001b[39;49m\u001b[43m_execute\u001b[49m\u001b[43m(\u001b[49m\u001b[43mCommand\u001b[49m\u001b[38;5;241;43m.\u001b[39;49m\u001b[43mCLICK_ELEMENT\u001b[49m\u001b[43m)\u001b[49m\n",
      "File \u001b[1;32m~\\anaconda3\\lib\\site-packages\\selenium\\webdriver\\remote\\webelement.py:396\u001b[0m, in \u001b[0;36mWebElement._execute\u001b[1;34m(self, command, params)\u001b[0m\n\u001b[0;32m    394\u001b[0m     params \u001b[38;5;241m=\u001b[39m {}\n\u001b[0;32m    395\u001b[0m params[\u001b[38;5;124m'\u001b[39m\u001b[38;5;124mid\u001b[39m\u001b[38;5;124m'\u001b[39m] \u001b[38;5;241m=\u001b[39m \u001b[38;5;28mself\u001b[39m\u001b[38;5;241m.\u001b[39m_id\n\u001b[1;32m--> 396\u001b[0m \u001b[38;5;28;01mreturn\u001b[39;00m \u001b[38;5;28;43mself\u001b[39;49m\u001b[38;5;241;43m.\u001b[39;49m\u001b[43m_parent\u001b[49m\u001b[38;5;241;43m.\u001b[39;49m\u001b[43mexecute\u001b[49m\u001b[43m(\u001b[49m\u001b[43mcommand\u001b[49m\u001b[43m,\u001b[49m\u001b[43m \u001b[49m\u001b[43mparams\u001b[49m\u001b[43m)\u001b[49m\n",
      "File \u001b[1;32m~\\anaconda3\\lib\\site-packages\\selenium\\webdriver\\remote\\webdriver.py:435\u001b[0m, in \u001b[0;36mWebDriver.execute\u001b[1;34m(self, driver_command, params)\u001b[0m\n\u001b[0;32m    433\u001b[0m response \u001b[38;5;241m=\u001b[39m \u001b[38;5;28mself\u001b[39m\u001b[38;5;241m.\u001b[39mcommand_executor\u001b[38;5;241m.\u001b[39mexecute(driver_command, params)\n\u001b[0;32m    434\u001b[0m \u001b[38;5;28;01mif\u001b[39;00m response:\n\u001b[1;32m--> 435\u001b[0m     \u001b[38;5;28;43mself\u001b[39;49m\u001b[38;5;241;43m.\u001b[39;49m\u001b[43merror_handler\u001b[49m\u001b[38;5;241;43m.\u001b[39;49m\u001b[43mcheck_response\u001b[49m\u001b[43m(\u001b[49m\u001b[43mresponse\u001b[49m\u001b[43m)\u001b[49m\n\u001b[0;32m    436\u001b[0m     response[\u001b[38;5;124m'\u001b[39m\u001b[38;5;124mvalue\u001b[39m\u001b[38;5;124m'\u001b[39m] \u001b[38;5;241m=\u001b[39m \u001b[38;5;28mself\u001b[39m\u001b[38;5;241m.\u001b[39m_unwrap_value(\n\u001b[0;32m    437\u001b[0m         response\u001b[38;5;241m.\u001b[39mget(\u001b[38;5;124m'\u001b[39m\u001b[38;5;124mvalue\u001b[39m\u001b[38;5;124m'\u001b[39m, \u001b[38;5;28;01mNone\u001b[39;00m))\n\u001b[0;32m    438\u001b[0m     \u001b[38;5;28;01mreturn\u001b[39;00m response\n",
      "File \u001b[1;32m~\\anaconda3\\lib\\site-packages\\selenium\\webdriver\\remote\\errorhandler.py:247\u001b[0m, in \u001b[0;36mErrorHandler.check_response\u001b[1;34m(self, response)\u001b[0m\n\u001b[0;32m    245\u001b[0m         alert_text \u001b[38;5;241m=\u001b[39m value[\u001b[38;5;124m'\u001b[39m\u001b[38;5;124malert\u001b[39m\u001b[38;5;124m'\u001b[39m]\u001b[38;5;241m.\u001b[39mget(\u001b[38;5;124m'\u001b[39m\u001b[38;5;124mtext\u001b[39m\u001b[38;5;124m'\u001b[39m)\n\u001b[0;32m    246\u001b[0m     \u001b[38;5;28;01mraise\u001b[39;00m exception_class(message, screen, stacktrace, alert_text)  \u001b[38;5;66;03m# type: ignore[call-arg]  # mypy is not smart enough here\u001b[39;00m\n\u001b[1;32m--> 247\u001b[0m \u001b[38;5;28;01mraise\u001b[39;00m exception_class(message, screen, stacktrace)\n",
      "\u001b[1;31mElementClickInterceptedException\u001b[0m: Message: element click intercepted: Element <i class=\"icon-navicon\"></i> is not clickable at point (836, 68). Other element would receive the click: <h3 class=\"pairing-affiliations-title\">...</h3>\n  (Session info: chrome=103.0.5060.114)\nStacktrace:\nBacktrace:\n\tOrdinal0 [0x007D6463+2188387]\n\tOrdinal0 [0x0076E461+1762401]\n\tOrdinal0 [0x00683D78+802168]\n\tOrdinal0 [0x006B7F9B+1015707]\n\tOrdinal0 [0x006B5F68+1007464]\n\tOrdinal0 [0x006B3C6B+998507]\n\tOrdinal0 [0x006B29D9+993753]\n\tOrdinal0 [0x006A8613+951827]\n\tOrdinal0 [0x006CC7DC+1099740]\n\tOrdinal0 [0x006A7FF4+950260]\n\tOrdinal0 [0x006CC9F4+1100276]\n\tOrdinal0 [0x006DCC22+1166370]\n\tOrdinal0 [0x006CC5F6+1099254]\n\tOrdinal0 [0x006A6BE0+945120]\n\tOrdinal0 [0x006A7AD6+948950]\n\tGetHandleVerifier [0x00A771F2+2712546]\n\tGetHandleVerifier [0x00A6886D+2652765]\n\tGetHandleVerifier [0x0086002A+520730]\n\tGetHandleVerifier [0x0085EE06+516086]\n\tOrdinal0 [0x0077468B+1787531]\n\tOrdinal0 [0x00778E88+1805960]\n\tOrdinal0 [0x00778F75+1806197]\n\tOrdinal0 [0x00781DF1+1842673]\n\tBaseThreadInitThunk [0x7568FA29+25]\n\tRtlGetAppContainerNamedObjectPath [0x77807A9E+286]\n\tRtlGetAppContainerNamedObjectPath [0x77807A6E+238]\n"
     ]
    }
   ],
   "source": [
    "jj.c"
   ]
  },
  {
   "cell_type": "code",
   "execution_count": 11,
   "id": "c25ee022",
   "metadata": {},
   "outputs": [],
   "source": [
    "element = driver.find_elements(By.CLASS_NAME,\"ref5\")"
   ]
  },
  {
   "cell_type": "code",
   "execution_count": 12,
   "id": "5420cda7",
   "metadata": {},
   "outputs": [
    {
     "data": {
      "text/plain": [
       "8"
      ]
     },
     "execution_count": 12,
     "metadata": {},
     "output_type": "execute_result"
    }
   ],
   "source": [
    "len(element)"
   ]
  },
  {
   "cell_type": "code",
   "execution_count": 83,
   "id": "d985dde1",
   "metadata": {},
   "outputs": [],
   "source": [
    "from selenium import webdriver\n",
    "from selenium.webdriver.common.keys import Keys\n",
    "from selenium.webdriver.common.by import By\n",
    "PATH = \"C:\\Program Files (x86)\\chromedriver.exe\""
   ]
  },
  {
   "cell_type": "code",
   "execution_count": 84,
   "id": "c25b5ec9",
   "metadata": {},
   "outputs": [
    {
     "name": "stderr",
     "output_type": "stream",
     "text": [
      "C:\\Users\\divya\\AppData\\Local\\Temp\\ipykernel_3908\\607351655.py:1: DeprecationWarning: executable_path has been deprecated, please pass in a Service object\n",
      "  driver = webdriver.Chrome(PATH)\n"
     ]
    }
   ],
   "source": [
    "driver = webdriver.Chrome(PATH)\n",
    "driver.get(\"https://pubs.acs.org/doi/10.1021/acsnano.9b06394\")"
   ]
  },
  {
   "cell_type": "code",
   "execution_count": 3,
   "id": "d9129307",
   "metadata": {},
   "outputs": [],
   "source": [
    "element = driver.find_element(By.ID,\"ref5\")"
   ]
  },
  {
   "cell_type": "code",
   "execution_count": 7,
   "id": "f6d73792",
   "metadata": {},
   "outputs": [
    {
     "data": {
      "text/plain": [
       "'2D Metal Carbides and Nitrides (MXenes), Structure, Properties and Applications'"
      ]
     },
     "execution_count": 7,
     "metadata": {},
     "output_type": "execute_result"
    }
   ],
   "source": [
    "element.find_element(By.TAG_NAME,\"i\").text"
   ]
  },
  {
   "cell_type": "code",
   "execution_count": 91,
   "id": "8f0448c2",
   "metadata": {},
   "outputs": [
    {
     "data": {
      "text/plain": [
       "6"
      ]
     },
     "execution_count": 91,
     "metadata": {},
     "output_type": "execute_result"
    }
   ],
   "source": [
    "etc=driver.find_element(By.CLASS_NAME,\"article_content-left\")\n",
    "len(etc.find_elements(By.CLASS_NAME,\"ref5\"))"
   ]
  },
  {
   "cell_type": "code",
   "execution_count": 85,
   "id": "e17fdada",
   "metadata": {},
   "outputs": [
    {
     "data": {
      "text/plain": [
       "8"
      ]
     },
     "execution_count": 85,
     "metadata": {},
     "output_type": "execute_result"
    }
   ],
   "source": [
    "real_figcombine=len(driver.find_elements(By.CLASS_NAME,\"ref5\"))"
   ]
  },
  {
   "cell_type": "code",
   "execution_count": 75,
   "id": "4de1ecf2",
   "metadata": {},
   "outputs": [],
   "source": [
    " element =driver.find_element(By.CLASS_NAME,\"paneContainer\")\n",
    "    e= element.find_elements(By.CLASS_NAME,\"ref5\")"
   ]
  },
  {
   "cell_type": "code",
   "execution_count": 81,
   "id": "7884d02e",
   "metadata": {},
   "outputs": [],
   "source": [
    "e= element.find_elements(By.CLASS_NAME,\"ref5\")"
   ]
  },
  {
   "cell_type": "code",
   "execution_count": 82,
   "id": "0d59dfd3",
   "metadata": {},
   "outputs": [
    {
     "data": {
      "text/plain": [
       "2"
      ]
     },
     "execution_count": 82,
     "metadata": {},
     "output_type": "execute_result"
    }
   ],
   "source": [
    "len(e)"
   ]
  },
  {
   "cell_type": "code",
   "execution_count": 32,
   "id": "ed6327ca",
   "metadata": {},
   "outputs": [
    {
     "data": {
      "text/plain": [
       "8"
      ]
     },
     "execution_count": 32,
     "metadata": {},
     "output_type": "execute_result"
    }
   ],
   "source": [
    "len(element)"
   ]
  },
  {
   "cell_type": "code",
   "execution_count": null,
   "id": "39a28a75",
   "metadata": {},
   "outputs": [],
   "source": []
  }
 ],
 "metadata": {
  "kernelspec": {
   "display_name": "Python 3 (ipykernel)",
   "language": "python",
   "name": "python3"
  },
  "language_info": {
   "codemirror_mode": {
    "name": "ipython",
    "version": 3
   },
   "file_extension": ".py",
   "mimetype": "text/x-python",
   "name": "python",
   "nbconvert_exporter": "python",
   "pygments_lexer": "ipython3",
   "version": "3.9.12"
  }
 },
 "nbformat": 4,
 "nbformat_minor": 5
}
